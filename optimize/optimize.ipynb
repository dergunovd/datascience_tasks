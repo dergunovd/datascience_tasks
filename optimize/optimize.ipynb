{
 "cells": [
  {
   "cell_type": "markdown",
   "metadata": {
    "collapsed": true,
    "pycharm": {
     "name": "#%% md\n"
    }
   },
   "source": [
    "# Задача оптимизации функции"
   ]
  },
  {
   "cell_type": "markdown",
   "metadata": {
    "pycharm": {
     "name": "#%% md\n"
    }
   },
   "source": [
    "### Описываем функцию"
   ]
  },
  {
   "cell_type": "code",
   "execution_count": 3,
   "metadata": {
    "pycharm": {
     "is_executing": false,
     "name": "#%%\n"
    }
   },
   "outputs": [],
   "source": [
    "import math\n",
    "def f (x):\n",
    "    return math.sin(x / 5) * math.exp(x / 10) + 5 * math.exp(-x / 2)"
   ]
  },
  {
   "cell_type": "markdown",
   "source": [
    "### Находим минимумы от начальных приближений 0-30 с шагом 1"
   ],
   "metadata": {
    "collapsed": false,
    "pycharm": {
     "name": "#%% md\n"
    }
   }
  },
  {
   "cell_type": "code",
   "execution_count": 4,
   "metadata": {
    "pycharm": {
     "is_executing": false,
     "name": "#%%\n"
    }
   },
   "outputs": [
    {
     "name": "stdout",
     "text": [
      "[ 1.74526829e+00  1.74526829e+00  1.74526829e+00  1.74526829e+00\n  1.74526829e+00  1.74526829e+00  1.74526829e+00  1.74526829e+00\n  1.74526829e+00  1.74526829e+00  1.74526829e+00 -1.18988947e+01\n -1.18988947e+01 -6.37176523e+03 -1.18988947e+01 -1.15035808e+01\n -1.18988947e+01 -1.18988947e+01 -1.18988947e+01 -1.18988947e+01\n -1.18988947e+01 -1.18988947e+01 -1.18988947e+01 -1.18988947e+01\n -1.18988947e+01 -1.18988947e+01 -1.18988947e+01 -1.18988947e+01\n -1.18988947e+01 -1.18988947e+01 -1.18988947e+01]\n"
     ],
     "output_type": "stream"
    }
   ],
   "source": [
    "import numpy\n",
    "from scipy.optimize import minimize\n",
    "mins = []\n",
    "for i in range(31):\n",
    "    mins.append(minimize(f, x0=[i], method='BFGS').fun)\n",
    "mins = numpy.array(mins)\n",
    "print(mins)"
   ]
  },
  {
   "cell_type": "markdown",
   "source": [
    "### Строим график функции и найденных минимумов"
   ],
   "metadata": {
    "collapsed": false
   }
  },
  {
   "cell_type": "code",
   "execution_count": 5,
   "metadata": {
    "pycharm": {
     "is_executing": false,
     "name": "#%%    \n"
    }
   },
   "outputs": [
    {
     "data": {
      "text/plain": "[<matplotlib.lines.Line2D at 0x7f328c1d2be0>]"
     },
     "metadata": {},
     "output_type": "execute_result",
     "execution_count": 5
    }
   ],
   "source": [
    "import pylab\n",
    "pylab.plot(range(0, 31), mins)\n",
    "pylab.plot(numpy.arange(0, 30, 0.1), [f(x) for x in numpy.arange(0, 30, 0.1)])\n"
   ]
  },
  {
   "cell_type": "code",
   "execution_count": 6,
   "outputs": [],
   "source": [
    "with open('optimize_result.txt', 'w') as file_out:\n",
    "    answer = \" \".join(map(lambda x: str(round(x,2)), [mins[2], mins[30]]))\n",
    "    file_out.write(answer)"
   ],
   "metadata": {
    "collapsed": false,
    "pycharm": {
     "name": "#%% Запишем минимумы с начальным приближением 2 и 30 в файл\n",
     "is_executing": false
    }
   }
  }
 ],
 "metadata": {
  "kernelspec": {
   "display_name": "Python 3",
   "language": "python",
   "name": "python3"
  },
  "language_info": {
   "codemirror_mode": {
    "name": "ipython",
    "version": 3
   },
   "file_extension": ".py",
   "mimetype": "text/x-python",
   "name": "python",
   "nbconvert_exporter": "python",
   "pygments_lexer": "ipython3",
   "version": "3.7.3"
  },
  "pycharm": {
   "stem_cell": {
    "cell_type": "raw",
    "source": [],
    "metadata": {
     "collapsed": false
    }
   }
  }
 },
 "nbformat": 4,
 "nbformat_minor": 1
}