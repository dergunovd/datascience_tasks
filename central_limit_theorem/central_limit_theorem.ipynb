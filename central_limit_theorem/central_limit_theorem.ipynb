{
 "cells": [
  {
   "cell_type": "markdown",
   "source": [
    "# Центральная предельная теорема"
   ],
   "metadata": {
    "collapsed": false,
    "pycharm": {
     "name": "#%% md\n"
    }
   }
  },
  {
   "cell_type": "markdown",
   "source": [
    "Будем использовать Бета-распределение\n",
    "[Ссылка на википедию](https://ru.wikipedia.org/wiki/Бета-распределение)\n",
    "\n",
    "$$ X \\sim Be(\\alpha, \\beta)$$\n",
    "\n",
    "С функцией распределениея\n",
    "$$f_X(x) = \\frac{1}{B(\\alpha,\\beta)}x^{\\alpha-1}(1-x)^{\\beta-1}$$"
   ],
   "metadata": {
    "collapsed": false
   }
  },
  {
   "cell_type": "markdown",
   "source": [
    "Импортируем все используемые далее библиотеки"
   ],
   "metadata": {
    "collapsed": false,
    "pycharm": {
     "name": "#%% md\n"
    }
   }
  },
  {
   "cell_type": "code",
   "execution_count": 1,
   "outputs": [],
   "source": [
    "import matplotlib.pyplot as plt\n",
    "import numpy as np\n",
    "import scipy.stats as sts"
   ],
   "metadata": {
    "collapsed": false,
    "pycharm": {
     "name": "#%%\n",
     "is_executing": false
    }
   }
  },
  {
   "cell_type": "markdown",
   "source": [
    "Зададим бета распределение с параметрами $$\\alpha = 0.5$$ $$\\beta = 0.5$$"
   ],
   "metadata": {
    "collapsed": false,
    "pycharm": {
     "name": "#%% md\n",
     "is_executing": false
    }
   }
  },
  {
   "cell_type": "code",
   "execution_count": 2,
   "outputs": [],
   "source": [
    "a = 0.5\n",
    "b = 0.5\n",
    "beta_rv = sts.beta(a, b)"
   ],
   "metadata": {
    "collapsed": false,
    "pycharm": {
     "name": "#%%\n",
     "is_executing": false
    }
   }
  },
  {
   "cell_type": "markdown",
   "source": [
    "Сгенерируем 1000 значений"
   ],
   "metadata": {
    "collapsed": false
   }
  },
  {
   "cell_type": "code",
   "execution_count": 3,
   "outputs": [],
   "source": [
    "sample = beta_rv.rvs(size=1000)"
   ],
   "metadata": {
    "collapsed": false,
    "pycharm": {
     "name": "#%%\n",
     "is_executing": false
    }
   }
  },
  {
   "cell_type": "code",
   "execution_count": 4,
   "outputs": [
    {
     "data": {
      "text/plain": "[<matplotlib.lines.Line2D at 0x7f3668193ba8>]"
     },
     "metadata": {},
     "output_type": "execute_result",
     "execution_count": 4
    },
    {
     "data": {
      "text/plain": "<Figure size 432x288 with 1 Axes>",
      "image/png": "[encoded data removed]"
     },
     "metadata": {
      "needs_background": "light"
     },
     "output_type": "display_data"
    }
   ],
   "source": [
    "# Рисуем гистограмму\n",
    "plt.hist(sample, density=True)\n",
    "plt.ylabel('fraction of samples')\n",
    "plt.xlabel('$x$')\n",
    "\n",
    "# На том же графике построим теоретическую плотность распределения:\n",
    "x = np.linspace(0, 1, 100)\n",
    "pdf = beta_rv.pdf(x)\n",
    "plt.plot(x, pdf)"
   ],
   "metadata": {
    "collapsed": false,
    "pycharm": {
     "name": "#%%\n",
     "is_executing": false
    }
   }
  },
  {
   "cell_type": "markdown",
   "source": [
    "Опишем функцию от n для генерации 1000 выборок объёма n, которая возвращает их выборочные средние.\n",
    "\n",
    "Выборочные средние считаем по формуле $$\\bar X = \\frac1n \\sum^n_{i=1}{X_i}$$"
   ],
   "metadata": {
    "collapsed": false,
    "pycharm": {
     "name": "#%% md\n"
    }
   }
  },
  {
   "cell_type": "code",
   "execution_count": 5,
   "outputs": [],
   "source": [
    "def gen_samples(n):\n",
    "    sample_mean_n = []\n",
    "    for i in range(1000):\n",
    "        sample_n = beta_rv.rvs(size=n)\n",
    "        sample_mean_n.append(sum(sample_n) / n)\n",
    "    return sample_mean_n\n"
   ],
   "metadata": {
    "collapsed": false,
    "pycharm": {
     "name": "#%%\n",
     "is_executing": false
    }
   }
  },
  {
   "cell_type": "markdown",
   "source": [
    "Опишем функцию для описания нормального распределения по параметрам бета-распределения\n",
    "$$ \\mathbb{E}X = \\frac\\alpha{\\alpha + \\beta} $$\n",
    "\n",
    "$$ \\mathbb{D}X = \\frac{\\alpha\\beta}{(\\alpha+\\beta)^2 (\\alpha + \\beta + 1)}$$\n",
    "\n",
    "Нормальное распределение будет задаваться как $$N(\\mathbb{E}X, \\frac{\\mathbb{D}X}{n})$$"
   ],
   "metadata": {
    "collapsed": false
   }
  },
  {
   "cell_type": "code",
   "execution_count": 6,
   "outputs": [],
   "source": [
    "def gen_norm_from_beta(a, b, n):\n",
    "    # Считаем параметры\n",
    "    mu = a / (a+b)\n",
    "    dispersion = (a * b) / ((a+b)**2 * (a+b+1))\n",
    "    # Задаем нормальное распределение\n",
    "    norm_rv = sts.norm(loc=mu, scale=(dispersion / n) ** 0.5 )\n",
    "    # Генерируем 100 значений и считаем плотность распределения\n",
    "    norm_rv.rvs(size=100)\n",
    "    x = np.linspace(0,1,100)\n",
    "    pdf = norm_rv.pdf(x)\n",
    "    # Рисуетм график плотности распределения\n",
    "    plt.plot(x, pdf)\n",
    "    plt.ylabel('$f(x)$')\n",
    "    plt.xlabel('$x$')"
   ],
   "metadata": {
    "collapsed": false,
    "pycharm": {
     "name": "#%%\n",
     "is_executing": false
    }
   }
  },
  {
   "cell_type": "markdown",
   "source": [
    "Опишем функцию для генерации гистограммы"
   ],
   "metadata": {
    "collapsed": false
   }
  },
  {
   "cell_type": "code",
   "execution_count": 7,
   "outputs": [],
   "source": [
    "def gen_hist(samples):\n",
    "    plt.hist(samples, density=True)\n",
    "    plt.ylabel('fraction of samples')\n",
    "    plt.xlabel('$x$')"
   ],
   "metadata": {
    "collapsed": false,
    "pycharm": {
     "name": "#%%\n",
     "is_executing": false
    }
   }
  },
  {
   "cell_type": "markdown",
   "source": [
    "### Рисуем гистограммы для $$ n = \\{5, 10, 50\\}$$"
   ],
   "metadata": {
    "collapsed": false,
    "pycharm": {
     "name": "#%% md\n"
    }
   }
  },
  {
   "cell_type": "code",
   "execution_count": 8,
   "outputs": [
    {
     "data": {
      "text/plain": "<Figure size 432x288 with 1 Axes>",
      "image/png": "[encoded data removed]"
     },
     "metadata": {
      "needs_background": "light"
     },
     "output_type": "display_data"
    },
    {
     "data": {
      "text/plain": "<Figure size 432x288 with 1 Axes>",
      "image/png": "[encoded data removed]"
     },
     "metadata": {
      "needs_background": "light"
     },
     "output_type": "display_data"
    },
    {
     "data": {
      "text/plain": "<Figure size 432x288 with 1 Axes>",
      "image/png": "[encoded data removed]"
     },
     "metadata": {
      "needs_background": "light"
     },
     "output_type": "display_data"
    }
   ],
   "source": [
    "# Рисуем гистограмму для n=5\n",
    "gen_hist(gen_samples(5))\n",
    "gen_norm_from_beta(a, b, 5)\n",
    "plt.show()\n",
    "\n",
    "# Рисуем гистограмму для n=10\n",
    "gen_hist(gen_samples(10))\n",
    "gen_norm_from_beta(a, b, 10)\n",
    "plt.show()\n",
    "\n",
    "# Рисуем гистограмму для n=50\n",
    "gen_hist(gen_samples(50))\n",
    "gen_norm_from_beta(a, b, 50)\n",
    "plt.show()"
   ],
   "metadata": {
    "collapsed": false,
    "pycharm": {
     "name": "#%%\n",
     "is_executing": false
    }
   }
  },
  {
   "cell_type": "markdown",
   "source": [
    "## Выводы:\n",
    "Как мы видим, при увеличении значения n, график все больше сходится вокруг средлнего значения.\n",
    "Становится более вытянутым и приближается к нормальному распределению. Точность аппроксимации при этом увеличивается."
   ],
   "metadata": {
    "collapsed": false,
    "pycharm": {
     "name": "#%% md\n"
    }
   }
  }
 ],
 "metadata": {
  "language_info": {
   "codemirror_mode": {
    "name": "ipython",
    "version": 2
   },
   "file_extension": ".py",
   "mimetype": "text/x-python",
   "name": "python",
   "nbconvert_exporter": "python",
   "pygments_lexer": "ipython2",
   "version": "2.7.6"
  },
  "kernelspec": {
   "name": "python3",
   "language": "python",
   "display_name": "Python 3"
  },
  "pycharm": {
   "stem_cell": {
    "cell_type": "raw",
    "source": [],
    "metadata": {
     "collapsed": false
    }
   }
  }
 },
 "nbformat": 4,
 "nbformat_minor": 0
}